{
  "nbformat": 4,
  "nbformat_minor": 0,
  "metadata": {
    "colab": {
      "provenance": [],
      "authorship_tag": "ABX9TyMSMZcCVxgL2aM0J9JILvar",
      "include_colab_link": true
    },
    "kernelspec": {
      "name": "python3",
      "display_name": "Python 3"
    },
    "language_info": {
      "name": "python"
    }
  },
  "cells": [
    {
      "cell_type": "markdown",
      "metadata": {
        "id": "view-in-github",
        "colab_type": "text"
      },
      "source": [
        "<a href=\"https://colab.research.google.com/github/dralv/Grokking-Algorithms/blob/main/Grokking_Algorithms.ipynb\" target=\"_parent\"><img src=\"https://colab.research.google.com/assets/colab-badge.svg\" alt=\"Open In Colab\"/></a>"
      ]
    },
    {
      "cell_type": "markdown",
      "source": [
        "**Binary Search**"
      ],
      "metadata": {
        "id": "hYmc12QEVyNy"
      }
    },
    {
      "cell_type": "code",
      "execution_count": null,
      "metadata": {
        "id": "kn3IftpQVl3c"
      },
      "outputs": [],
      "source": [
        "def binary_search(list, item):\n",
        "  low = 0\n",
        "  high = len(list)-1\n",
        "\n",
        "  while low <= high:\n",
        "    mid = (low+high)//2\n",
        "    guess = list[mid]\n",
        "\n",
        "    if guess==item:\n",
        "      return mid\n",
        "    if guess > item:\n",
        "      high = mid - 1\n",
        "    else:\n",
        "      low = mid + 1\n",
        "  return None"
      ]
    },
    {
      "cell_type": "code",
      "source": [
        "my_array = [1,3,5,7,9]"
      ],
      "metadata": {
        "id": "VsAds7NSgSyP"
      },
      "execution_count": null,
      "outputs": []
    },
    {
      "cell_type": "code",
      "source": [
        "binary_search(my_array,3)"
      ],
      "metadata": {
        "colab": {
          "base_uri": "https://localhost:8080/"
        },
        "id": "tBVvPWhliUSl",
        "outputId": "116ed1aa-93b7-4a8b-ac62-38accd15fab1"
      },
      "execution_count": null,
      "outputs": [
        {
          "output_type": "execute_result",
          "data": {
            "text/plain": [
              "1"
            ]
          },
          "metadata": {},
          "execution_count": 25
        }
      ]
    },
    {
      "cell_type": "code",
      "source": [
        "binary_search(my_array,9)"
      ],
      "metadata": {
        "colab": {
          "base_uri": "https://localhost:8080/"
        },
        "id": "3p7YNncviYTS",
        "outputId": "e0cfd2e8-3b87-4825-88c6-5764d2b7dc90"
      },
      "execution_count": null,
      "outputs": [
        {
          "output_type": "execute_result",
          "data": {
            "text/plain": [
              "4"
            ]
          },
          "metadata": {},
          "execution_count": 27
        }
      ]
    },
    {
      "cell_type": "code",
      "source": [
        "binary_search(my_array,-1)"
      ],
      "metadata": {
        "id": "WGFiyTU7ip9I"
      },
      "execution_count": null,
      "outputs": []
    },
    {
      "cell_type": "markdown",
      "source": [
        "**The traveling salesperson**"
      ],
      "metadata": {
        "id": "2Q6l-z5wslzR"
      }
    },
    {
      "cell_type": "markdown",
      "source": [
        "\n",
        "\n",
        "*   Péssimo run time\n",
        "*   O(N!)\n",
        "*   Um dos problemas não resolvidos em computação\n",
        "\n",
        "\n",
        "\n",
        "\n"
      ],
      "metadata": {
        "id": "YOl9cko4sx6x"
      }
    },
    {
      "cell_type": "markdown",
      "source": [
        "**Selection Sort**"
      ],
      "metadata": {
        "id": "iEi5JRm22l9Z"
      }
    },
    {
      "cell_type": "markdown",
      "source": [
        "\n",
        "\n",
        "*   O(N^2)\n",
        "\n"
      ],
      "metadata": {
        "id": "AvntYgMZ491C"
      }
    },
    {
      "cell_type": "code",
      "source": [
        "def find_smallest(arr):\n",
        "  smallest = arr[0]\n",
        "  smallest_index = 0\n",
        "\n",
        "  for i in range(1,len(arr)):\n",
        "    if arr[i] < smallest:\n",
        "      smallest = arr[i]\n",
        "      smallest_index = i\n",
        "  return smallest_index"
      ],
      "metadata": {
        "id": "8YKaADBTj3sz"
      },
      "execution_count": null,
      "outputs": []
    },
    {
      "cell_type": "code",
      "source": [
        "def selection_sort_desc(arr):\n",
        "  newArr = []\n",
        "\n",
        "  for i in range(len(arr)):\n",
        "    smallest = find_smallest(arr)\n",
        "    newArr.append(arr.pop(smallest))\n",
        "  return newArr"
      ],
      "metadata": {
        "id": "rQfpofPO3QUu"
      },
      "execution_count": null,
      "outputs": []
    },
    {
      "cell_type": "code",
      "source": [
        "print(selection_sort_desc([5,3,6,2,10]))"
      ],
      "metadata": {
        "colab": {
          "base_uri": "https://localhost:8080/"
        },
        "id": "Gp8tMAy-3sVf",
        "outputId": "5ebcf754-63d7-4c95-c452-290e921522d5"
      },
      "execution_count": null,
      "outputs": [
        {
          "output_type": "stream",
          "name": "stdout",
          "text": [
            "[2, 3, 5, 6, 10]\n"
          ]
        }
      ]
    },
    {
      "cell_type": "code",
      "source": [
        "def find_biggest(arr):\n",
        "  biggest = arr[0]\n",
        "  biggest_index = 0\n",
        "\n",
        "  for i in range(1,len(arr)):\n",
        "    if arr[i]>biggest:\n",
        "      biggest = arr[i]\n",
        "      biggest_index = i\n",
        "  return biggest_index"
      ],
      "metadata": {
        "id": "smDXU5Jd3x-w"
      },
      "execution_count": null,
      "outputs": []
    },
    {
      "cell_type": "code",
      "source": [
        "def selection_sort_asc(arr):\n",
        "  newArr = []\n",
        "\n",
        "  for i in range(len(arr)):\n",
        "    biggest = find_biggest(arr)\n",
        "    newArr.append(arr.pop(biggest))\n",
        "  return newArr"
      ],
      "metadata": {
        "id": "cU8Q4TR44M4J"
      },
      "execution_count": null,
      "outputs": []
    },
    {
      "cell_type": "code",
      "source": [
        "print(selection_sort_asc([5,3,6,2,10]))"
      ],
      "metadata": {
        "colab": {
          "base_uri": "https://localhost:8080/"
        },
        "id": "ORB84-nY4bkU",
        "outputId": "90678445-87e1-4266-c09a-00040d364032"
      },
      "execution_count": null,
      "outputs": [
        {
          "output_type": "stream",
          "name": "stdout",
          "text": [
            "[10, 6, 5, 3, 2]\n"
          ]
        }
      ]
    },
    {
      "cell_type": "markdown",
      "source": [
        "**Recursion Exercises**"
      ],
      "metadata": {
        "id": "9oyYFcyFEHz0"
      }
    },
    {
      "cell_type": "code",
      "source": [
        "def sum_without_recursion(arr):\n",
        "  total = 0\n",
        "  for i in arr:\n",
        "    total += i\n",
        "  return total"
      ],
      "metadata": {
        "id": "zKW6-yK1EMMf"
      },
      "execution_count": 3,
      "outputs": []
    },
    {
      "cell_type": "code",
      "source": [
        "sum_without_recursion([1,2,3,4])"
      ],
      "metadata": {
        "colab": {
          "base_uri": "https://localhost:8080/"
        },
        "id": "_GvTmEtkEfhZ",
        "outputId": "bc6aa2a0-1437-411d-d143-8205262dcf19"
      },
      "execution_count": 11,
      "outputs": [
        {
          "output_type": "execute_result",
          "data": {
            "text/plain": [
              "10"
            ]
          },
          "metadata": {},
          "execution_count": 11
        }
      ]
    },
    {
      "cell_type": "code",
      "source": [
        "def sum_with_recursion(arr):\n",
        "  if len(arr) == 1:\n",
        "    return arr[0]\n",
        "  else:\n",
        "    return arr[0] + sum_with_recursion(arr[1:])"
      ],
      "metadata": {
        "id": "J-ZzQoIYEqAw"
      },
      "execution_count": 9,
      "outputs": []
    },
    {
      "cell_type": "code",
      "source": [
        "sum_with_recursion([1,2,3,4])"
      ],
      "metadata": {
        "colab": {
          "base_uri": "https://localhost:8080/"
        },
        "id": "EitAdGclFAXY",
        "outputId": "1f5d143b-0f06-41f3-9a35-8c52a7e5bcfc"
      },
      "execution_count": 13,
      "outputs": [
        {
          "output_type": "execute_result",
          "data": {
            "text/plain": [
              "10"
            ]
          },
          "metadata": {},
          "execution_count": 13
        }
      ]
    },
    {
      "cell_type": "code",
      "source": [
        "def count_num_list_no_recursion(arr):\n",
        "  num_elements = 0\n",
        "  for i in arr:\n",
        "    num_elements = num_elements+1\n",
        "\n",
        "  return num_elements"
      ],
      "metadata": {
        "id": "Mi5MGgOhFCBP"
      },
      "execution_count": 18,
      "outputs": []
    },
    {
      "cell_type": "code",
      "source": [
        "count_num_list_no_recursion([1,2,3,4])"
      ],
      "metadata": {
        "colab": {
          "base_uri": "https://localhost:8080/"
        },
        "id": "GUkcFGlgFsPL",
        "outputId": "8e56338b-8fa7-44bf-be1e-b7dbc1c6affc"
      },
      "execution_count": 19,
      "outputs": [
        {
          "output_type": "execute_result",
          "data": {
            "text/plain": [
              "4"
            ]
          },
          "metadata": {},
          "execution_count": 19
        }
      ]
    },
    {
      "cell_type": "code",
      "source": [
        "def count_num_list_recursion(arr):\n",
        "  if len(arr) == 1:\n",
        "    return 1\n",
        "  else:\n",
        "    return 1 + count_num_list_recursion(arr[1:])"
      ],
      "metadata": {
        "id": "ceHW597xF55V"
      },
      "execution_count": 20,
      "outputs": []
    },
    {
      "cell_type": "code",
      "source": [
        "count_num_list_recursion([1,2,3,4])"
      ],
      "metadata": {
        "colab": {
          "base_uri": "https://localhost:8080/"
        },
        "id": "CdycwrNkGkd-",
        "outputId": "92fb333f-95c5-43bf-9a8e-bbc3945efac8"
      },
      "execution_count": 21,
      "outputs": [
        {
          "output_type": "execute_result",
          "data": {
            "text/plain": [
              "4"
            ]
          },
          "metadata": {},
          "execution_count": 21
        }
      ]
    }
  ]
}