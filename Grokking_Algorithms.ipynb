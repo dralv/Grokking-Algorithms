{
  "nbformat": 4,
  "nbformat_minor": 0,
  "metadata": {
    "colab": {
      "provenance": [],
      "authorship_tag": "ABX9TyNLFBjswzDOqlK4XSblYtMX",
      "include_colab_link": true
    },
    "kernelspec": {
      "name": "python3",
      "display_name": "Python 3"
    },
    "language_info": {
      "name": "python"
    }
  },
  "cells": [
    {
      "cell_type": "markdown",
      "metadata": {
        "id": "view-in-github",
        "colab_type": "text"
      },
      "source": [
        "<a href=\"https://colab.research.google.com/github/dralv/Grokking-Algorithms/blob/main/Grokking_Algorithms.ipynb\" target=\"_parent\"><img src=\"https://colab.research.google.com/assets/colab-badge.svg\" alt=\"Open In Colab\"/></a>"
      ]
    },
    {
      "cell_type": "markdown",
      "source": [
        "**Binary Search**"
      ],
      "metadata": {
        "id": "hYmc12QEVyNy"
      }
    },
    {
      "cell_type": "code",
      "execution_count": null,
      "metadata": {
        "id": "kn3IftpQVl3c"
      },
      "outputs": [],
      "source": [
        "def binary_search(list, item):\n",
        "  low = 0\n",
        "  high = len(list)-1\n",
        "\n",
        "  while low <= high:\n",
        "    mid = (low+high)//2\n",
        "    guess = list[mid]\n",
        "\n",
        "    if guess==item:\n",
        "      return mid\n",
        "    if guess > item:\n",
        "      high = mid - 1\n",
        "    else:\n",
        "      low = mid + 1\n",
        "  return None"
      ]
    },
    {
      "cell_type": "code",
      "source": [
        "my_array = [1,3,5,7,9]"
      ],
      "metadata": {
        "id": "VsAds7NSgSyP"
      },
      "execution_count": null,
      "outputs": []
    },
    {
      "cell_type": "code",
      "source": [
        "binary_search(my_array,3)"
      ],
      "metadata": {
        "colab": {
          "base_uri": "https://localhost:8080/"
        },
        "id": "tBVvPWhliUSl",
        "outputId": "116ed1aa-93b7-4a8b-ac62-38accd15fab1"
      },
      "execution_count": null,
      "outputs": [
        {
          "output_type": "execute_result",
          "data": {
            "text/plain": [
              "1"
            ]
          },
          "metadata": {},
          "execution_count": 25
        }
      ]
    },
    {
      "cell_type": "code",
      "source": [
        "binary_search(my_array,9)"
      ],
      "metadata": {
        "colab": {
          "base_uri": "https://localhost:8080/"
        },
        "id": "3p7YNncviYTS",
        "outputId": "e0cfd2e8-3b87-4825-88c6-5764d2b7dc90"
      },
      "execution_count": null,
      "outputs": [
        {
          "output_type": "execute_result",
          "data": {
            "text/plain": [
              "4"
            ]
          },
          "metadata": {},
          "execution_count": 27
        }
      ]
    },
    {
      "cell_type": "code",
      "source": [
        "binary_search(my_array,-1)"
      ],
      "metadata": {
        "id": "WGFiyTU7ip9I"
      },
      "execution_count": null,
      "outputs": []
    },
    {
      "cell_type": "code",
      "source": [],
      "metadata": {
        "id": "8YKaADBTj3sz"
      },
      "execution_count": null,
      "outputs": []
    }
  ]
}